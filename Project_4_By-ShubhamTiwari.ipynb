{
 "cells": [
  {
   "cell_type": "markdown",
   "id": "1416e171",
   "metadata": {},
   "source": [
    "# Project 4: Exploring the India's Copper imports and exports\n",
    "\n",
    "by Shubham Tiwari\n",
    "\n",
    "A country's economy depends, sometimes heavily, on its exports and imports. The United Nations Comtrade database provides data on global trade. It will be used to analyse the India's imports and exports of Copper in year 2021 after the COVID-19:\n",
    "\n",
    "- How much does the India export and import and is the balance positive (more exports than imports)?\n",
    "- Which are the main trading partners, i.e. from/to which countries does the India import/export the most?\n",
    "- Which are the regular customers, i.e. which countries buy copper from the India every month?\n",
    "- Which countries does the India both import from and export to?\n"
   ]
  },
  {
   "cell_type": "code",
   "execution_count": 1,
   "id": "782adfdf",
   "metadata": {},
   "outputs": [],
   "source": [
    "import warnings\n",
    "warnings.simplefilter('ignore', FutureWarning)\n",
    "\n",
    "import matplotlib\n",
    "matplotlib.rcParams['axes.grid'] = True # show gridlines by default\n",
    "%matplotlib inline\n",
    "\n",
    "from pandas import *"
   ]
  },
  {
   "cell_type": "markdown",
   "id": "d1c97b00",
   "metadata": {},
   "source": [
    "# Getting and preparing the data\n",
    "The data is obtained from the United Nations Comtrade website(https://comtrade.un.org/data/), by selecting the following configuration:\n",
    "\n",
    "- Type of Product: goods\n",
    "- Frequency: monthly\n",
    "- Periods: 2021\n",
    "- Reporter: india\n",
    "- Partners: all\n",
    "- Flows: imports and exports\n",
    "- HS (as reported) commodity codes: 7402 (Copper; Unrefined, copper anodes for electrolytic refining ) and 7403 (Copper;   refined and copper alloys, unwrought)\n",
    "\n",
    "\n",
    "Clicking on 'Preview' results in a message that the data exceeds 500 rows. Data was downloaded using the API URL."
   ]
  },
  {
   "cell_type": "code",
   "execution_count": 2,
   "id": "577c57c5",
   "metadata": {
    "scrolled": true
   },
   "outputs": [
    {
     "data": {
      "text/html": [
       "<div>\n",
       "<style scoped>\n",
       "    .dataframe tbody tr th:only-of-type {\n",
       "        vertical-align: middle;\n",
       "    }\n",
       "\n",
       "    .dataframe tbody tr th {\n",
       "        vertical-align: top;\n",
       "    }\n",
       "\n",
       "    .dataframe thead th {\n",
       "        text-align: right;\n",
       "    }\n",
       "</style>\n",
       "<table border=\"1\" class=\"dataframe\">\n",
       "  <thead>\n",
       "    <tr style=\"text-align: right;\">\n",
       "      <th></th>\n",
       "      <th>Classification</th>\n",
       "      <th>Year</th>\n",
       "      <th>Period</th>\n",
       "      <th>Period Desc.</th>\n",
       "      <th>Aggregate Level</th>\n",
       "      <th>Is Leaf Code</th>\n",
       "      <th>Trade Flow Code</th>\n",
       "      <th>Trade Flow</th>\n",
       "      <th>Reporter Code</th>\n",
       "      <th>Reporter</th>\n",
       "      <th>...</th>\n",
       "      <th>Qty</th>\n",
       "      <th>Alt Qty Unit Code</th>\n",
       "      <th>Alt Qty Unit</th>\n",
       "      <th>Alt Qty</th>\n",
       "      <th>Netweight (kg)</th>\n",
       "      <th>Gross weight (kg)</th>\n",
       "      <th>Trade Value (US$)</th>\n",
       "      <th>CIF Trade Value (US$)</th>\n",
       "      <th>FOB Trade Value (US$)</th>\n",
       "      <th>Flag</th>\n",
       "    </tr>\n",
       "  </thead>\n",
       "  <tbody>\n",
       "    <tr>\n",
       "      <th>0</th>\n",
       "      <td>HS</td>\n",
       "      <td>2021</td>\n",
       "      <td>202101</td>\n",
       "      <td>January 2021</td>\n",
       "      <td>4</td>\n",
       "      <td>0</td>\n",
       "      <td>1</td>\n",
       "      <td>Imports</td>\n",
       "      <td>699</td>\n",
       "      <td>India</td>\n",
       "      <td>...</td>\n",
       "      <td>NaN</td>\n",
       "      <td>NaN</td>\n",
       "      <td>NaN</td>\n",
       "      <td>NaN</td>\n",
       "      <td>484022.0</td>\n",
       "      <td>NaN</td>\n",
       "      <td>3303975</td>\n",
       "      <td>NaN</td>\n",
       "      <td>NaN</td>\n",
       "      <td>0</td>\n",
       "    </tr>\n",
       "    <tr>\n",
       "      <th>1</th>\n",
       "      <td>HS</td>\n",
       "      <td>2021</td>\n",
       "      <td>202112</td>\n",
       "      <td>December 2021</td>\n",
       "      <td>4</td>\n",
       "      <td>0</td>\n",
       "      <td>2</td>\n",
       "      <td>Exports</td>\n",
       "      <td>699</td>\n",
       "      <td>India</td>\n",
       "      <td>...</td>\n",
       "      <td>NaN</td>\n",
       "      <td>NaN</td>\n",
       "      <td>NaN</td>\n",
       "      <td>NaN</td>\n",
       "      <td>36.0</td>\n",
       "      <td>NaN</td>\n",
       "      <td>71</td>\n",
       "      <td>NaN</td>\n",
       "      <td>NaN</td>\n",
       "      <td>0</td>\n",
       "    </tr>\n",
       "    <tr>\n",
       "      <th>2</th>\n",
       "      <td>HS</td>\n",
       "      <td>2021</td>\n",
       "      <td>202112</td>\n",
       "      <td>December 2021</td>\n",
       "      <td>4</td>\n",
       "      <td>0</td>\n",
       "      <td>2</td>\n",
       "      <td>Exports</td>\n",
       "      <td>699</td>\n",
       "      <td>India</td>\n",
       "      <td>...</td>\n",
       "      <td>NaN</td>\n",
       "      <td>NaN</td>\n",
       "      <td>NaN</td>\n",
       "      <td>NaN</td>\n",
       "      <td>1216440.0</td>\n",
       "      <td>NaN</td>\n",
       "      <td>11206213</td>\n",
       "      <td>NaN</td>\n",
       "      <td>NaN</td>\n",
       "      <td>0</td>\n",
       "    </tr>\n",
       "  </tbody>\n",
       "</table>\n",
       "<p>3 rows × 35 columns</p>\n",
       "</div>"
      ],
      "text/plain": [
       "  Classification  Year  Period   Period Desc.  Aggregate Level  Is Leaf Code  \\\n",
       "0             HS  2021  202101   January 2021                4             0   \n",
       "1             HS  2021  202112  December 2021                4             0   \n",
       "2             HS  2021  202112  December 2021                4             0   \n",
       "\n",
       "   Trade Flow Code Trade Flow Reporter Code Reporter  ...  Qty  \\\n",
       "0                1    Imports           699    India  ...  NaN   \n",
       "1                2    Exports           699    India  ...  NaN   \n",
       "2                2    Exports           699    India  ...  NaN   \n",
       "\n",
       "   Alt Qty Unit Code Alt Qty Unit  Alt Qty  Netweight (kg)  Gross weight (kg)  \\\n",
       "0                NaN          NaN      NaN        484022.0                NaN   \n",
       "1                NaN          NaN      NaN            36.0                NaN   \n",
       "2                NaN          NaN      NaN       1216440.0                NaN   \n",
       "\n",
       "   Trade Value (US$)  CIF Trade Value (US$)  FOB Trade Value (US$)  Flag  \n",
       "0            3303975                    NaN                    NaN     0  \n",
       "1                 71                    NaN                    NaN     0  \n",
       "2           11206213                    NaN                    NaN     0  \n",
       "\n",
       "[3 rows x 35 columns]"
      ]
     },
     "execution_count": 2,
     "metadata": {},
     "output_type": "execute_result"
    }
   ],
   "source": [
    "URL='http://comtrade.un.org/api/get?max=5000&type=C&freq=M&px=HS&ps=2021&r=699&p=all&rg=1%2C2&cc=7402%2C7403&fmt=csv'\n",
    "Copper = read_csv(URL, dtype={'Commodity Code':str, 'Reporter Code':str})\n",
    "Copper.head(3)"
   ]
  },
  {
   "cell_type": "markdown",
   "id": "c19258c7",
   "metadata": {},
   "source": [
    "The data is downloaded directly from Comtrade using the \"View API Call\" URL, modified in two ways:\n",
    "\n",
    "max=500 is increased to max=5000 to make sure all data is loaded,\n",
    "&fmt=csv is added at the end to obtain the data in CSV format."
   ]
  },
  {
   "cell_type": "markdown",
   "id": "bdc08fae",
   "metadata": {},
   "source": [
    "On reading in the data, the commodity code and Reporter Code has to be read as a string, to not lose the leading zero."
   ]
  },
  {
   "cell_type": "code",
   "execution_count": 3,
   "id": "34a89097",
   "metadata": {},
   "outputs": [],
   "source": [
    "Copper.to_csv('copper_commtrade.csv', index=False)"
   ]
  },
  {
   "cell_type": "code",
   "execution_count": 4,
   "id": "bcb16f0b",
   "metadata": {},
   "outputs": [
    {
     "name": "stdout",
     "output_type": "stream",
     "text": [
      "<class 'pandas.core.frame.DataFrame'>\n",
      "RangeIndex: 633 entries, 0 to 632\n",
      "Data columns (total 35 columns):\n",
      " #   Column                  Non-Null Count  Dtype  \n",
      "---  ------                  --------------  -----  \n",
      " 0   Classification          633 non-null    object \n",
      " 1   Year                    633 non-null    int64  \n",
      " 2   Period                  633 non-null    int64  \n",
      " 3   Period Desc.            633 non-null    object \n",
      " 4   Aggregate Level         633 non-null    int64  \n",
      " 5   Is Leaf Code            633 non-null    int64  \n",
      " 6   Trade Flow Code         633 non-null    int64  \n",
      " 7   Trade Flow              633 non-null    object \n",
      " 8   Reporter Code           633 non-null    object \n",
      " 9   Reporter                633 non-null    object \n",
      " 10  Reporter ISO            0 non-null      float64\n",
      " 11  Partner Code            633 non-null    int64  \n",
      " 12  Partner                 633 non-null    object \n",
      " 13  Partner ISO             0 non-null      float64\n",
      " 14  2nd Partner Code        0 non-null      float64\n",
      " 15  2nd Partner             0 non-null      float64\n",
      " 16  2nd Partner ISO         0 non-null      float64\n",
      " 17  Customs Proc. Code      0 non-null      float64\n",
      " 18  Customs                 0 non-null      float64\n",
      " 19  Mode of Transport Code  0 non-null      float64\n",
      " 20  Mode of Transport       0 non-null      float64\n",
      " 21  Commodity Code          633 non-null    object \n",
      " 22  Commodity               633 non-null    object \n",
      " 23  Qty Unit Code           0 non-null      float64\n",
      " 24  Qty Unit                0 non-null      float64\n",
      " 25  Qty                     0 non-null      float64\n",
      " 26  Alt Qty Unit Code       0 non-null      float64\n",
      " 27  Alt Qty Unit            0 non-null      float64\n",
      " 28  Alt Qty                 0 non-null      float64\n",
      " 29  Netweight (kg)          624 non-null    float64\n",
      " 30  Gross weight (kg)       0 non-null      float64\n",
      " 31  Trade Value (US$)       633 non-null    int64  \n",
      " 32  CIF Trade Value (US$)   0 non-null      float64\n",
      " 33  FOB Trade Value (US$)   0 non-null      float64\n",
      " 34  Flag                    633 non-null    int64  \n",
      "dtypes: float64(19), int64(8), object(8)\n",
      "memory usage: 173.2+ KB\n"
     ]
    }
   ],
   "source": [
    "Copper.info()"
   ]
  },
  {
   "cell_type": "markdown",
   "id": "d886a71c",
   "metadata": {},
   "source": [
    "The data only covers the months of 2021. Most columns are irrelevant for this analysis, or contain always the same value, like the year and reporter columns. The commodity code is transformed into a short but descriptive text and only the relevant columns are selected."
   ]
  },
  {
   "cell_type": "code",
   "execution_count": 5,
   "id": "fb6ce5d4",
   "metadata": {},
   "outputs": [
    {
     "data": {
      "text/html": [
       "<div>\n",
       "<style scoped>\n",
       "    .dataframe tbody tr th:only-of-type {\n",
       "        vertical-align: middle;\n",
       "    }\n",
       "\n",
       "    .dataframe tbody tr th {\n",
       "        vertical-align: top;\n",
       "    }\n",
       "\n",
       "    .dataframe thead th {\n",
       "        text-align: right;\n",
       "    }\n",
       "</style>\n",
       "<table border=\"1\" class=\"dataframe\">\n",
       "  <thead>\n",
       "    <tr style=\"text-align: right;\">\n",
       "      <th></th>\n",
       "      <th>Period</th>\n",
       "      <th>Partner</th>\n",
       "      <th>Trade Flow</th>\n",
       "      <th>Copper : Anodes &amp; Alloys</th>\n",
       "      <th>Trade Value (US$)</th>\n",
       "    </tr>\n",
       "  </thead>\n",
       "  <tbody>\n",
       "    <tr>\n",
       "      <th>0</th>\n",
       "      <td>202101</td>\n",
       "      <td>Mozambique</td>\n",
       "      <td>Imports</td>\n",
       "      <td>unrefined</td>\n",
       "      <td>3303975</td>\n",
       "    </tr>\n",
       "    <tr>\n",
       "      <th>1</th>\n",
       "      <td>202112</td>\n",
       "      <td>Bangladesh</td>\n",
       "      <td>Exports</td>\n",
       "      <td>unrefined</td>\n",
       "      <td>71</td>\n",
       "    </tr>\n",
       "    <tr>\n",
       "      <th>2</th>\n",
       "      <td>202112</td>\n",
       "      <td>China</td>\n",
       "      <td>Exports</td>\n",
       "      <td>unrefined</td>\n",
       "      <td>11206213</td>\n",
       "    </tr>\n",
       "    <tr>\n",
       "      <th>3</th>\n",
       "      <td>202102</td>\n",
       "      <td>World</td>\n",
       "      <td>Exports</td>\n",
       "      <td>unrefined</td>\n",
       "      <td>5889</td>\n",
       "    </tr>\n",
       "    <tr>\n",
       "      <th>4</th>\n",
       "      <td>202106</td>\n",
       "      <td>World</td>\n",
       "      <td>Imports</td>\n",
       "      <td>unrefined</td>\n",
       "      <td>181749337</td>\n",
       "    </tr>\n",
       "  </tbody>\n",
       "</table>\n",
       "</div>"
      ],
      "text/plain": [
       "   Period     Partner Trade Flow Copper : Anodes & Alloys  Trade Value (US$)\n",
       "0  202101  Mozambique    Imports                unrefined            3303975\n",
       "1  202112  Bangladesh    Exports                unrefined                 71\n",
       "2  202112       China    Exports                unrefined           11206213\n",
       "3  202102       World    Exports                unrefined               5889\n",
       "4  202106       World    Imports                unrefined          181749337"
      ]
     },
     "execution_count": 5,
     "metadata": {},
     "output_type": "execute_result"
    }
   ],
   "source": [
    "def copperType(code):\n",
    "    if code == '7402': \n",
    "        return 'unrefined'\n",
    "    if code == '7403':\n",
    "        return 'refined' \n",
    "    return 'unknown'\n",
    "\n",
    "COMMODITY = 'Copper : Anodes & Alloys'\n",
    "Copper[COMMODITY] = Copper['Commodity Code'].apply(copperType)\n",
    "MONTH = 'Period'\n",
    "PARTNER = 'Partner'\n",
    "FLOW = 'Trade Flow'\n",
    "VALUE = 'Trade Value (US$)'\n",
    "headings = [MONTH, PARTNER, FLOW, COMMODITY, VALUE]\n",
    "Copper = Copper[headings]\n",
    "Copper.head()"
   ]
  },
  {
   "cell_type": "markdown",
   "id": "1c71fcac",
   "metadata": {},
   "source": [
    "The data contains the total imports and exports per month, under the 'World' partner. Those rows are removed to keep only the per-country data."
   ]
  },
  {
   "cell_type": "code",
   "execution_count": 6,
   "id": "ae201e61",
   "metadata": {},
   "outputs": [
    {
     "data": {
      "text/html": [
       "<div>\n",
       "<style scoped>\n",
       "    .dataframe tbody tr th:only-of-type {\n",
       "        vertical-align: middle;\n",
       "    }\n",
       "\n",
       "    .dataframe tbody tr th {\n",
       "        vertical-align: top;\n",
       "    }\n",
       "\n",
       "    .dataframe thead th {\n",
       "        text-align: right;\n",
       "    }\n",
       "</style>\n",
       "<table border=\"1\" class=\"dataframe\">\n",
       "  <thead>\n",
       "    <tr style=\"text-align: right;\">\n",
       "      <th></th>\n",
       "      <th>Period</th>\n",
       "      <th>Partner</th>\n",
       "      <th>Trade Flow</th>\n",
       "      <th>Copper : Anodes &amp; Alloys</th>\n",
       "      <th>Trade Value (US$)</th>\n",
       "    </tr>\n",
       "  </thead>\n",
       "  <tbody>\n",
       "    <tr>\n",
       "      <th>0</th>\n",
       "      <td>202101</td>\n",
       "      <td>Mozambique</td>\n",
       "      <td>Imports</td>\n",
       "      <td>unrefined</td>\n",
       "      <td>3303975</td>\n",
       "    </tr>\n",
       "    <tr>\n",
       "      <th>1</th>\n",
       "      <td>202112</td>\n",
       "      <td>Bangladesh</td>\n",
       "      <td>Exports</td>\n",
       "      <td>unrefined</td>\n",
       "      <td>71</td>\n",
       "    </tr>\n",
       "    <tr>\n",
       "      <th>2</th>\n",
       "      <td>202112</td>\n",
       "      <td>China</td>\n",
       "      <td>Exports</td>\n",
       "      <td>unrefined</td>\n",
       "      <td>11206213</td>\n",
       "    </tr>\n",
       "    <tr>\n",
       "      <th>5</th>\n",
       "      <td>202101</td>\n",
       "      <td>South Africa</td>\n",
       "      <td>Imports</td>\n",
       "      <td>unrefined</td>\n",
       "      <td>89488687</td>\n",
       "    </tr>\n",
       "    <tr>\n",
       "      <th>6</th>\n",
       "      <td>202107</td>\n",
       "      <td>United Rep. of Tanzania</td>\n",
       "      <td>Imports</td>\n",
       "      <td>unrefined</td>\n",
       "      <td>95858838</td>\n",
       "    </tr>\n",
       "  </tbody>\n",
       "</table>\n",
       "</div>"
      ],
      "text/plain": [
       "   Period                  Partner Trade Flow Copper : Anodes & Alloys  \\\n",
       "0  202101               Mozambique    Imports                unrefined   \n",
       "1  202112               Bangladesh    Exports                unrefined   \n",
       "2  202112                    China    Exports                unrefined   \n",
       "5  202101             South Africa    Imports                unrefined   \n",
       "6  202107  United Rep. of Tanzania    Imports                unrefined   \n",
       "\n",
       "   Trade Value (US$)  \n",
       "0            3303975  \n",
       "1                 71  \n",
       "2           11206213  \n",
       "5           89488687  \n",
       "6           95858838  "
      ]
     },
     "execution_count": 6,
     "metadata": {},
     "output_type": "execute_result"
    }
   ],
   "source": [
    "Copper = Copper[Copper[PARTNER] != 'World']\n",
    "Copper.head()"
   ]
  },
  {
   "cell_type": "markdown",
   "id": "5f0ff2d5",
   "metadata": {},
   "source": [
    "# Total trade flow\n",
    "\n",
    "To answer the first question, 'how much does the India export and import and is the balance positive (more exports than imports)?', the dataframe is split into two groups: exports from the India and imports into the India. The trade values within each group are summed up to get the total trading."
   ]
  },
  {
   "cell_type": "code",
   "execution_count": 7,
   "id": "94bbb874",
   "metadata": {},
   "outputs": [
    {
     "data": {
      "text/plain": [
       "Trade Flow\n",
       "Exports    1380070737\n",
       "Imports    2942800730\n",
       "Name: Trade Value (US$), dtype: int64"
      ]
     },
     "execution_count": 7,
     "metadata": {},
     "output_type": "execute_result"
    }
   ],
   "source": [
    "grouped = Copper.groupby([FLOW])\n",
    "grouped[VALUE].aggregate(sum)"
   ]
  },
  {
   "cell_type": "markdown",
   "id": "d2dc5f18",
   "metadata": {},
   "source": [
    "This shows a trade surplus of over 100 million dollars."
   ]
  },
  {
   "cell_type": "markdown",
   "id": "1ab966d0",
   "metadata": {},
   "source": [
    "# Main trade partners\n",
    "\n",
    "To address the second question, 'Which are the main trading partners, i.e. from/to which countries does the India import/export the most?', the dataframe is split by country instead, and then each group aggregated for the total trade value. This is done separately for imports and exports. The result is sorted in descending order so that the main partners are at the top."
   ]
  },
  {
   "cell_type": "code",
   "execution_count": 8,
   "id": "c0e245b9",
   "metadata": {},
   "outputs": [
    {
     "name": "stdout",
     "output_type": "stream",
     "text": [
      "The India imports from 43 countries.\n",
      "The 10 biggest exporters to the India are:\n"
     ]
    },
    {
     "data": {
      "text/plain": [
       "Partner\n",
       "Japan                      1103342960\n",
       "United Rep. of Tanzania     808642177\n",
       "South Africa                699202806\n",
       "Mozambique                  184998930\n",
       "Philippines                  42218039\n",
       "United Arab Emirates         32094000\n",
       "Namibia                      23339575\n",
       "Thailand                     10395623\n",
       "Italy                         9700769\n",
       "Malaysia                      6640690\n",
       "Name: Trade Value (US$), dtype: int64"
      ]
     },
     "execution_count": 8,
     "metadata": {},
     "output_type": "execute_result"
    }
   ],
   "source": [
    "imports = Copper[Copper[FLOW] == 'Imports']\n",
    "grouped = imports.groupby([PARTNER])\n",
    "print('The India imports from', len(grouped), 'countries.')\n",
    "print('The 10 biggest exporters to the India are:')\n",
    "totalImports = grouped[VALUE].aggregate(sum).sort_values(inplace=False,ascending=False)\n",
    "totalImports.head(10)"
   ]
  },
  {
   "cell_type": "markdown",
   "id": "fa00c8a6",
   "metadata": {},
   "source": [
    "The export values can be plotted as a bar chart, making differences between countries easier to see."
   ]
  },
  {
   "cell_type": "code",
   "execution_count": 9,
   "id": "7c303868",
   "metadata": {},
   "outputs": [
    {
     "data": {
      "text/plain": [
       "<AxesSubplot:ylabel='Partner'>"
      ]
     },
     "execution_count": 9,
     "metadata": {},
     "output_type": "execute_result"
    },
    {
     "data": {
      "image/png": "[encoded data removed]",
      "text/plain": [
       "<Figure size 640x480 with 1 Axes>"
      ]
     },
     "metadata": {},
     "output_type": "display_data"
    }
   ],
   "source": [
    "totalImports.head(10).plot(kind='barh')"
   ]
  },
  {
   "cell_type": "code",
   "execution_count": 10,
   "id": "9fe7a045",
   "metadata": {},
   "outputs": [
    {
     "name": "stdout",
     "output_type": "stream",
     "text": [
      "The India exports to 66 countries.\n",
      "The 5 biggest importers from the India are:\n"
     ]
    },
    {
     "data": {
      "text/plain": [
       "Partner\n",
       "China                       1263541237\n",
       "Singapore                     69026928\n",
       "Rep. of Korea                 28726317\n",
       "Bangladesh                     6990689\n",
       "Other Asia, nes                2066998\n",
       "Spain                          1782449\n",
       "Sri Lanka                      1125869\n",
       "United States of America       1109824\n",
       "Thailand                        789733\n",
       "Germany                         684702\n",
       "Name: Trade Value (US$), dtype: int64"
      ]
     },
     "execution_count": 10,
     "metadata": {},
     "output_type": "execute_result"
    }
   ],
   "source": [
    "exports = Copper[Copper[FLOW] == 'Exports']\n",
    "grouped = exports.groupby([PARTNER])\n",
    "print('The India exports to', len(grouped), 'countries.')\n",
    "print('The 5 biggest importers from the India are:')\n",
    "totalExports = grouped[VALUE].aggregate(sum).sort_values(ascending=False,inplace=False)\n",
    "totalExports.head(10)"
   ]
  },
  {
   "cell_type": "code",
   "execution_count": 11,
   "id": "e40cda0c",
   "metadata": {},
   "outputs": [
    {
     "data": {
      "text/plain": [
       "<AxesSubplot:ylabel='Partner'>"
      ]
     },
     "execution_count": 11,
     "metadata": {},
     "output_type": "execute_result"
    },
    {
     "data": {
      "image/png": "[encoded data removed]",
      "text/plain": [
       "<Figure size 640x480 with 1 Axes>"
      ]
     },
     "metadata": {},
     "output_type": "display_data"
    }
   ],
   "source": [
    "totalExports.head(5).plot(kind='barh')"
   ]
  },
  {
   "cell_type": "markdown",
   "id": "8018e55d",
   "metadata": {},
   "source": [
    "# Regular importers\n",
    "\n",
    "Given that there are two commodities, the third question, 'Which are the regular customers, i.e. which countries buy Copper from the India every month?', is meant in the sense that a regular customer imports both commodities every month. This means that if the exports dataframe is grouped by country, each group has exactly ten rows (two commodities bought each of the five months). To see the countries, only the first month of one commodity has to be listed, as by definition it's the same countries every month and for the other commodity."
   ]
  },
  {
   "cell_type": "code",
   "execution_count": 12,
   "id": "98b701c7",
   "metadata": {},
   "outputs": [
    {
     "data": {
      "text/html": [
       "<div>\n",
       "<style scoped>\n",
       "    .dataframe tbody tr th:only-of-type {\n",
       "        vertical-align: middle;\n",
       "    }\n",
       "\n",
       "    .dataframe tbody tr th {\n",
       "        vertical-align: top;\n",
       "    }\n",
       "\n",
       "    .dataframe thead th {\n",
       "        text-align: right;\n",
       "    }\n",
       "</style>\n",
       "<table border=\"1\" class=\"dataframe\">\n",
       "  <thead>\n",
       "    <tr style=\"text-align: right;\">\n",
       "      <th></th>\n",
       "      <th>Period</th>\n",
       "      <th>Partner</th>\n",
       "      <th>Trade Flow</th>\n",
       "      <th>Copper : Anodes &amp; Alloys</th>\n",
       "      <th>Trade Value (US$)</th>\n",
       "    </tr>\n",
       "  </thead>\n",
       "  <tbody>\n",
       "    <tr>\n",
       "      <th>52</th>\n",
       "      <td>202101</td>\n",
       "      <td>Saudi Arabia</td>\n",
       "      <td>Exports</td>\n",
       "      <td>refined</td>\n",
       "      <td>7672</td>\n",
       "    </tr>\n",
       "    <tr>\n",
       "      <th>589</th>\n",
       "      <td>202101</td>\n",
       "      <td>Sri Lanka</td>\n",
       "      <td>Exports</td>\n",
       "      <td>refined</td>\n",
       "      <td>42331</td>\n",
       "    </tr>\n",
       "  </tbody>\n",
       "</table>\n",
       "</div>"
      ],
      "text/plain": [
       "     Period       Partner Trade Flow Copper : Anodes & Alloys  \\\n",
       "52   202101  Saudi Arabia    Exports                  refined   \n",
       "589  202101     Sri Lanka    Exports                  refined   \n",
       "\n",
       "     Trade Value (US$)  \n",
       "52                7672  \n",
       "589              42331  "
      ]
     },
     "execution_count": 12,
     "metadata": {},
     "output_type": "execute_result"
    }
   ],
   "source": [
    "def buysEveryMonth(group):\n",
    "    return len(group) == 10\n",
    "\n",
    "grouped = exports.groupby([PARTNER])\n",
    "regular = grouped.filter(buysEveryMonth)\n",
    "regular[(regular[MONTH] == 202101) & (regular[COMMODITY] == 'refined')]"
   ]
  },
  {
   "cell_type": "markdown",
   "id": "8aa04067",
   "metadata": {},
   "source": [
    "the total Copper exports are due to these regular customers."
   ]
  },
  {
   "cell_type": "code",
   "execution_count": 13,
   "id": "0611fd2a",
   "metadata": {},
   "outputs": [
    {
     "data": {
      "text/plain": [
       "0.0010711530651055317"
      ]
     },
     "execution_count": 13,
     "metadata": {},
     "output_type": "execute_result"
    }
   ],
   "source": [
    "regular[VALUE].sum() / exports[VALUE].sum()"
   ]
  },
  {
   "cell_type": "markdown",
   "id": "f0b99ea9",
   "metadata": {},
   "source": [
    "# Bi-directional trade\n",
    "\n",
    "To address the fourth question, 'Which countries does the India both import from and export to?', a pivot table is used to list the total export and import value for each country. "
   ]
  },
  {
   "cell_type": "code",
   "execution_count": 14,
   "id": "d914b477",
   "metadata": {},
   "outputs": [
    {
     "data": {
      "text/html": [
       "<div>\n",
       "<style scoped>\n",
       "    .dataframe tbody tr th:only-of-type {\n",
       "        vertical-align: middle;\n",
       "    }\n",
       "\n",
       "    .dataframe tbody tr th {\n",
       "        vertical-align: top;\n",
       "    }\n",
       "\n",
       "    .dataframe thead th {\n",
       "        text-align: right;\n",
       "    }\n",
       "</style>\n",
       "<table border=\"1\" class=\"dataframe\">\n",
       "  <thead>\n",
       "    <tr style=\"text-align: right;\">\n",
       "      <th>Trade Flow</th>\n",
       "      <th>Exports</th>\n",
       "      <th>Imports</th>\n",
       "    </tr>\n",
       "    <tr>\n",
       "      <th>Partner</th>\n",
       "      <th></th>\n",
       "      <th></th>\n",
       "    </tr>\n",
       "  </thead>\n",
       "  <tbody>\n",
       "    <tr>\n",
       "      <th>Angola</th>\n",
       "      <td>1703.0</td>\n",
       "      <td>NaN</td>\n",
       "    </tr>\n",
       "    <tr>\n",
       "      <th>Australia</th>\n",
       "      <td>6798.0</td>\n",
       "      <td>NaN</td>\n",
       "    </tr>\n",
       "    <tr>\n",
       "      <th>Austria</th>\n",
       "      <td>NaN</td>\n",
       "      <td>4007017.0</td>\n",
       "    </tr>\n",
       "    <tr>\n",
       "      <th>Bahrain</th>\n",
       "      <td>5850.0</td>\n",
       "      <td>425887.0</td>\n",
       "    </tr>\n",
       "    <tr>\n",
       "      <th>Bangladesh</th>\n",
       "      <td>6990689.0</td>\n",
       "      <td>93851.0</td>\n",
       "    </tr>\n",
       "  </tbody>\n",
       "</table>\n",
       "</div>"
      ],
      "text/plain": [
       "Trade Flow    Exports    Imports\n",
       "Partner                         \n",
       "Angola         1703.0        NaN\n",
       "Australia      6798.0        NaN\n",
       "Austria           NaN  4007017.0\n",
       "Bahrain        5850.0   425887.0\n",
       "Bangladesh  6990689.0    93851.0"
      ]
     },
     "execution_count": 14,
     "metadata": {},
     "output_type": "execute_result"
    }
   ],
   "source": [
    "countries = pivot_table(Copper, index=[PARTNER], columns=[FLOW], \n",
    "                        values=VALUE, aggfunc=sum)\n",
    "countries.head()"
   ]
  },
  {
   "cell_type": "markdown",
   "id": "f3c908ea",
   "metadata": {},
   "source": [
    "Removing the rows with a missing value will result in only those countries with bi-directional trade flow with the India."
   ]
  },
  {
   "cell_type": "code",
   "execution_count": 15,
   "id": "036fc1f5",
   "metadata": {},
   "outputs": [
    {
     "data": {
      "text/html": [
       "<div>\n",
       "<style scoped>\n",
       "    .dataframe tbody tr th:only-of-type {\n",
       "        vertical-align: middle;\n",
       "    }\n",
       "\n",
       "    .dataframe tbody tr th {\n",
       "        vertical-align: top;\n",
       "    }\n",
       "\n",
       "    .dataframe thead th {\n",
       "        text-align: right;\n",
       "    }\n",
       "</style>\n",
       "<table border=\"1\" class=\"dataframe\">\n",
       "  <thead>\n",
       "    <tr style=\"text-align: right;\">\n",
       "      <th>Trade Flow</th>\n",
       "      <th>Exports</th>\n",
       "      <th>Imports</th>\n",
       "    </tr>\n",
       "    <tr>\n",
       "      <th>Partner</th>\n",
       "      <th></th>\n",
       "      <th></th>\n",
       "    </tr>\n",
       "  </thead>\n",
       "  <tbody>\n",
       "    <tr>\n",
       "      <th>Bahrain</th>\n",
       "      <td>5.850000e+03</td>\n",
       "      <td>4.258870e+05</td>\n",
       "    </tr>\n",
       "    <tr>\n",
       "      <th>Bangladesh</th>\n",
       "      <td>6.990689e+06</td>\n",
       "      <td>9.385100e+04</td>\n",
       "    </tr>\n",
       "    <tr>\n",
       "      <th>Belgium</th>\n",
       "      <td>5.334040e+05</td>\n",
       "      <td>4.249920e+05</td>\n",
       "    </tr>\n",
       "    <tr>\n",
       "      <th>Canada</th>\n",
       "      <td>7.510000e+03</td>\n",
       "      <td>7.828300e+04</td>\n",
       "    </tr>\n",
       "    <tr>\n",
       "      <th>China</th>\n",
       "      <td>1.263541e+09</td>\n",
       "      <td>2.158292e+06</td>\n",
       "    </tr>\n",
       "    <tr>\n",
       "      <th>China, Hong Kong SAR</th>\n",
       "      <td>1.603210e+05</td>\n",
       "      <td>1.080360e+05</td>\n",
       "    </tr>\n",
       "    <tr>\n",
       "      <th>France</th>\n",
       "      <td>3.762630e+05</td>\n",
       "      <td>8.116300e+04</td>\n",
       "    </tr>\n",
       "    <tr>\n",
       "      <th>Germany</th>\n",
       "      <td>6.847020e+05</td>\n",
       "      <td>2.860675e+06</td>\n",
       "    </tr>\n",
       "    <tr>\n",
       "      <th>Indonesia</th>\n",
       "      <td>5.140000e+02</td>\n",
       "      <td>1.465216e+06</td>\n",
       "    </tr>\n",
       "    <tr>\n",
       "      <th>Israel</th>\n",
       "      <td>2.143000e+03</td>\n",
       "      <td>3.060000e+02</td>\n",
       "    </tr>\n",
       "    <tr>\n",
       "      <th>Italy</th>\n",
       "      <td>2.810310e+05</td>\n",
       "      <td>9.700769e+06</td>\n",
       "    </tr>\n",
       "    <tr>\n",
       "      <th>Japan</th>\n",
       "      <td>3.334100e+05</td>\n",
       "      <td>1.103343e+09</td>\n",
       "    </tr>\n",
       "    <tr>\n",
       "      <th>Malaysia</th>\n",
       "      <td>6.235130e+05</td>\n",
       "      <td>6.640690e+06</td>\n",
       "    </tr>\n",
       "    <tr>\n",
       "      <th>Mozambique</th>\n",
       "      <td>2.000000e+00</td>\n",
       "      <td>1.849989e+08</td>\n",
       "    </tr>\n",
       "    <tr>\n",
       "      <th>Netherlands</th>\n",
       "      <td>4.890950e+05</td>\n",
       "      <td>2.568510e+05</td>\n",
       "    </tr>\n",
       "    <tr>\n",
       "      <th>Other Asia, nes</th>\n",
       "      <td>2.066998e+06</td>\n",
       "      <td>5.130600e+04</td>\n",
       "    </tr>\n",
       "    <tr>\n",
       "      <th>Philippines</th>\n",
       "      <td>4.783900e+04</td>\n",
       "      <td>4.221804e+07</td>\n",
       "    </tr>\n",
       "    <tr>\n",
       "      <th>Rep. of Korea</th>\n",
       "      <td>2.872632e+07</td>\n",
       "      <td>1.385000e+05</td>\n",
       "    </tr>\n",
       "    <tr>\n",
       "      <th>Singapore</th>\n",
       "      <td>6.902693e+07</td>\n",
       "      <td>7.072000e+04</td>\n",
       "    </tr>\n",
       "    <tr>\n",
       "      <th>South Africa</th>\n",
       "      <td>6.742000e+03</td>\n",
       "      <td>6.992028e+08</td>\n",
       "    </tr>\n",
       "    <tr>\n",
       "      <th>Spain</th>\n",
       "      <td>1.782449e+06</td>\n",
       "      <td>2.293981e+06</td>\n",
       "    </tr>\n",
       "    <tr>\n",
       "      <th>Sri Lanka</th>\n",
       "      <td>1.125869e+06</td>\n",
       "      <td>1.486582e+06</td>\n",
       "    </tr>\n",
       "    <tr>\n",
       "      <th>Thailand</th>\n",
       "      <td>7.897330e+05</td>\n",
       "      <td>1.039562e+07</td>\n",
       "    </tr>\n",
       "    <tr>\n",
       "      <th>Togo</th>\n",
       "      <td>5.594500e+04</td>\n",
       "      <td>2.353600e+04</td>\n",
       "    </tr>\n",
       "    <tr>\n",
       "      <th>Tunisia</th>\n",
       "      <td>1.558000e+03</td>\n",
       "      <td>5.779700e+04</td>\n",
       "    </tr>\n",
       "    <tr>\n",
       "      <th>Turkey</th>\n",
       "      <td>3.749000e+03</td>\n",
       "      <td>1.178840e+05</td>\n",
       "    </tr>\n",
       "    <tr>\n",
       "      <th>Uganda</th>\n",
       "      <td>9.293000e+03</td>\n",
       "      <td>1.696600e+04</td>\n",
       "    </tr>\n",
       "    <tr>\n",
       "      <th>United Arab Emirates</th>\n",
       "      <td>1.308000e+05</td>\n",
       "      <td>3.209400e+07</td>\n",
       "    </tr>\n",
       "    <tr>\n",
       "      <th>United Kingdom</th>\n",
       "      <td>1.222760e+05</td>\n",
       "      <td>2.716460e+05</td>\n",
       "    </tr>\n",
       "    <tr>\n",
       "      <th>United Rep. of Tanzania</th>\n",
       "      <td>6.662000e+03</td>\n",
       "      <td>8.086422e+08</td>\n",
       "    </tr>\n",
       "    <tr>\n",
       "      <th>United States of America</th>\n",
       "      <td>1.109824e+06</td>\n",
       "      <td>3.861379e+06</td>\n",
       "    </tr>\n",
       "    <tr>\n",
       "      <th>Viet Nam</th>\n",
       "      <td>1.339800e+04</td>\n",
       "      <td>5.153430e+05</td>\n",
       "    </tr>\n",
       "    <tr>\n",
       "      <th>Zambia</th>\n",
       "      <td>9.330000e+02</td>\n",
       "      <td>2.079770e+05</td>\n",
       "    </tr>\n",
       "  </tbody>\n",
       "</table>\n",
       "</div>"
      ],
      "text/plain": [
       "Trade Flow                     Exports       Imports\n",
       "Partner                                             \n",
       "Bahrain                   5.850000e+03  4.258870e+05\n",
       "Bangladesh                6.990689e+06  9.385100e+04\n",
       "Belgium                   5.334040e+05  4.249920e+05\n",
       "Canada                    7.510000e+03  7.828300e+04\n",
       "China                     1.263541e+09  2.158292e+06\n",
       "China, Hong Kong SAR      1.603210e+05  1.080360e+05\n",
       "France                    3.762630e+05  8.116300e+04\n",
       "Germany                   6.847020e+05  2.860675e+06\n",
       "Indonesia                 5.140000e+02  1.465216e+06\n",
       "Israel                    2.143000e+03  3.060000e+02\n",
       "Italy                     2.810310e+05  9.700769e+06\n",
       "Japan                     3.334100e+05  1.103343e+09\n",
       "Malaysia                  6.235130e+05  6.640690e+06\n",
       "Mozambique                2.000000e+00  1.849989e+08\n",
       "Netherlands               4.890950e+05  2.568510e+05\n",
       "Other Asia, nes           2.066998e+06  5.130600e+04\n",
       "Philippines               4.783900e+04  4.221804e+07\n",
       "Rep. of Korea             2.872632e+07  1.385000e+05\n",
       "Singapore                 6.902693e+07  7.072000e+04\n",
       "South Africa              6.742000e+03  6.992028e+08\n",
       "Spain                     1.782449e+06  2.293981e+06\n",
       "Sri Lanka                 1.125869e+06  1.486582e+06\n",
       "Thailand                  7.897330e+05  1.039562e+07\n",
       "Togo                      5.594500e+04  2.353600e+04\n",
       "Tunisia                   1.558000e+03  5.779700e+04\n",
       "Turkey                    3.749000e+03  1.178840e+05\n",
       "Uganda                    9.293000e+03  1.696600e+04\n",
       "United Arab Emirates      1.308000e+05  3.209400e+07\n",
       "United Kingdom            1.222760e+05  2.716460e+05\n",
       "United Rep. of Tanzania   6.662000e+03  8.086422e+08\n",
       "United States of America  1.109824e+06  3.861379e+06\n",
       "Viet Nam                  1.339800e+04  5.153430e+05\n",
       "Zambia                    9.330000e+02  2.079770e+05"
      ]
     },
     "execution_count": 15,
     "metadata": {},
     "output_type": "execute_result"
    }
   ],
   "source": [
    "countries.dropna()"
   ]
  },
  {
   "cell_type": "markdown",
   "id": "365c480b",
   "metadata": {},
   "source": [
    "# Conclusions\n",
    "The Copper trade of the India from Year 2021 was analysed in terms of which countries the India mostly depends on for income (exports) and goods (imports). Over the period, the India had a trade surplus of over 100 million US dollars.\n",
    "\n",
    "China is the main partner.\n",
    "Japan imported from the India almost the same as china in value.\n",
    "\n",
    "The India exported to over 66 countries during the period, but only imported from 43 countries, the main ones (top five by trade value) being geographically close. Japan and South AF=frica are the main importers that are not also main exporters.\n",
    "\n",
    "The India is heavily dependent on its regular customers, the 2 countries that buy all types of copper every month.\n",
    "\n",
    "The India has bi-directional trade (i.e. both exports and imports) with 33 countries."
   ]
  }
 ],
 "metadata": {
  "kernelspec": {
   "display_name": "Python 3 (ipykernel)",
   "language": "python",
   "name": "python3"
  },
  "language_info": {
   "codemirror_mode": {
    "name": "ipython",
    "version": 3
   },
   "file_extension": ".py",
   "mimetype": "text/x-python",
   "name": "python",
   "nbconvert_exporter": "python",
   "pygments_lexer": "ipython3",
   "version": "3.9.13"
  }
 },
 "nbformat": 4,
 "nbformat_minor": 5
}
